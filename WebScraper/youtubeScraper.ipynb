{
 "cells": [
  {
   "cell_type": "code",
   "execution_count": 1,
   "metadata": {},
   "outputs": [],
   "source": [
    "from selenium import webdriver\n",
    "from selenium.webdriver.common.by import By\n",
    "from selenium.webdriver.common.keys import Keys\n",
    "import time\n",
    "from bs4 import BeautifulSoup\n",
    "import pandas as pd"
   ]
  },
  {
   "cell_type": "code",
   "execution_count": 2,
   "metadata": {},
   "outputs": [],
   "source": [
    "browser= webdriver.Chrome()\n",
    "browser.get('https://www.youtube.com/@BisforBuild/videos')\n",
    "\n",
    "for _ in range(1): # change to 67 for all videos\n",
    "    browser.find_element(By.TAG_NAME, 'body').send_keys(Keys.END)\n",
    "    time.sleep(3)\n",
    "\n",
    "html = browser.page_source\n",
    "soup = BeautifulSoup(html, 'html.parser')\n",
    "videos = soup.find_all('div', {'id':'dismissible'})"
   ]
  },
  {
   "cell_type": "code",
   "execution_count": 3,
   "metadata": {},
   "outputs": [],
   "source": [
    "video_urls = []\n",
    "\n",
    "# get video urls\n",
    "for video in videos:\n",
    "    url = 'https://www.youtube.com/' + video.find('a', {'id':'video-title-link'})['href']\n",
    "    video_urls.append(url)\n",
    "    break"
   ]
  },
  {
   "cell_type": "code",
   "execution_count": null,
   "metadata": {},
   "outputs": [],
   "source": [
    "video_info = []\n",
    "\n",
    "# get video info\n",
    "for url in video_urls:\n",
    "    data_dict = {}\n",
    "    data_dict['url'] = url\n",
    "\n",
    "    browser.get(url)\n",
    "    time.sleep(1)\n",
    "    browser.find_element(By.ID, 'expand').click()\n",
    "    html = browser.page_source\n",
    "    soup = BeautifulSoup(html, 'html.parser')\n",
    "\n",
    "    title = soup.find_all('div', {'id': 'title'})\n",
    "    data_dict['title'] = title[1].text.strip()\n",
    "    info = soup.find('div', {'id': 'info-container'}).find_all('span')\n",
    "    data_dict['views'] = info[0].text.split()[0]\n",
    "    data_dict['date'] = info[2].text\n",
    "    video_info.append(data_dict)"
   ]
  },
  {
   "cell_type": "code",
   "execution_count": null,
   "metadata": {},
   "outputs": [],
   "source": [
    "final_video_info = pd.DataFrame(video_info)\n",
    "\n",
    "# save df to csv\n",
    "final_video_info.to_csv('Output\\\\output_youtube.csv', index=False)"
   ]
  }
 ],
 "metadata": {
  "kernelspec": {
   "display_name": "scraper",
   "language": "python",
   "name": "python3"
  },
  "language_info": {
   "codemirror_mode": {
    "name": "ipython",
    "version": 3
   },
   "file_extension": ".py",
   "mimetype": "text/x-python",
   "name": "python",
   "nbconvert_exporter": "python",
   "pygments_lexer": "ipython3",
   "version": "3.12.0"
  }
 },
 "nbformat": 4,
 "nbformat_minor": 2
}
